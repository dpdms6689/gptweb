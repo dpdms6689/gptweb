{
 "cells": [
  {
   "cell_type": "code",
   "execution_count": 2,
   "id": "9f780c3d-f8cd-4963-a994-376ca7b9c4aa",
   "metadata": {},
   "outputs": [
    {
     "name": "stdout",
     "output_type": "stream",
     "text": [
      "8\n",
      "0.23210394077414565\n"
     ]
    }
   ],
   "source": [
    "import random\n",
    "\n",
    "random_integer = random.randint(1,10)\n",
    "print(random_integer)\n",
    "\n",
    "random_float = random.random()\n",
    "print(random_float)"
   ]
  },
  {
   "cell_type": "code",
   "execution_count": 3,
   "id": "442d4460-d268-46f4-9d6f-e2554a8f9f59",
   "metadata": {},
   "outputs": [
    {
     "name": "stdout",
     "output_type": "stream",
     "text": [
      "8\n",
      "0.7003361618275378\n",
      "당신의 예상 스코어는 90 \n"
     ]
    }
   ],
   "source": [
    "import random\n",
    "\n",
    "random_integer = random.randint(1,10)\n",
    "print(random_integer)\n",
    "\n",
    "random_float = random.random() * 5\n",
    "print(random_float)\n",
    "\n",
    "my_score = random.randint(1,100)\n",
    "print(f\"당신의 예상 스코어는 {my_score} \")"
   ]
  }
 ],
 "metadata": {
  "kernelspec": {
   "display_name": "Python 3 (ipykernel)",
   "language": "python",
   "name": "python3"
  },
  "language_info": {
   "codemirror_mode": {
    "name": "ipython",
    "version": 3
   },
   "file_extension": ".py",
   "mimetype": "text/x-python",
   "name": "python",
   "nbconvert_exporter": "python",
   "pygments_lexer": "ipython3",
   "version": "3.9.13"
  }
 },
 "nbformat": 4,
 "nbformat_minor": 5
}
