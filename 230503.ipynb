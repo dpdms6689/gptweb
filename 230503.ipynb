{
 "cells": [
  {
   "cell_type": "code",
   "execution_count": 1,
   "id": "6b45e8a2-0381-4e33-b0c4-d0f00fd1a4cc",
   "metadata": {},
   "outputs": [
    {
     "name": "stdout",
     "output_type": "stream",
     "text": [
      "팁 계산기!\n"
     ]
    },
    {
     "name": "stdin",
     "output_type": "stream",
     "text": [
      "총 얼마를 주문했을까? 55000\n",
      "팁을 얼마나 주면 좋을까? 10, 12, or, 15 ?  10\n",
      "몇명이서 나눠서 낼까? 4\n"
     ]
    },
    {
     "ename": "NameError",
     "evalue": "name 'total' is not defined",
     "output_type": "error",
     "traceback": [
      "\u001b[1;31m---------------------------------------------------------------------------\u001b[0m",
      "\u001b[1;31mNameError\u001b[0m                                 Traceback (most recent call last)",
      "\u001b[1;32m~\\AppData\\Local\\Temp\\ipykernel_15208\\3581624306.py\u001b[0m in \u001b[0;36m<module>\u001b[1;34m\u001b[0m\n\u001b[0;32m      8\u001b[0m \u001b[0mtotal_tip\u001b[0m \u001b[1;33m=\u001b[0m \u001b[0morder\u001b[0m \u001b[1;33m*\u001b[0m \u001b[0mtip_as_percent\u001b[0m\u001b[1;33m\u001b[0m\u001b[1;33m\u001b[0m\u001b[0m\n\u001b[0;32m      9\u001b[0m \u001b[0mtotal_bill\u001b[0m \u001b[1;33m=\u001b[0m \u001b[0mtotal_tip\u001b[0m \u001b[1;33m+\u001b[0m \u001b[0morder\u001b[0m\u001b[1;33m\u001b[0m\u001b[1;33m\u001b[0m\u001b[0m\n\u001b[1;32m---> 10\u001b[1;33m \u001b[0mbill_per_person\u001b[0m \u001b[1;33m=\u001b[0m \u001b[0mtotal\u001b[0m\u001b[1;33m+\u001b[0m\u001b[0mbill\u001b[0m \u001b[1;33m/\u001b[0m \u001b[0mpeople\u001b[0m\u001b[1;33m\u001b[0m\u001b[1;33m\u001b[0m\u001b[0m\n\u001b[0m\u001b[0;32m     11\u001b[0m \u001b[1;33m\u001b[0m\u001b[0m\n\u001b[0;32m     12\u001b[0m \u001b[0mfinal_bill\u001b[0m \u001b[1;33m=\u001b[0m \u001b[0mround\u001b[0m\u001b[1;33m(\u001b[0m\u001b[0mbill_per_person\u001b[0m\u001b[1;33m,\u001b[0m \u001b[1;36m2\u001b[0m\u001b[1;33m)\u001b[0m\u001b[1;33m\u001b[0m\u001b[1;33m\u001b[0m\u001b[0m\n",
      "\u001b[1;31mNameError\u001b[0m: name 'total' is not defined"
     ]
    }
   ],
   "source": [
    "print(\"팁 계산기!\")\n",
    "\n",
    "order = float(input(\"총 얼마를 주문했을까?\"))\n",
    "tip = int(input (\"팁을 얼마나 주면 좋을까? 10, 12, or, 15 ? \"))\n",
    "people = int(input(\"몇명이서 나눠서 낼까?\"))\n",
    "\n",
    "tip_as_percent = tip / 100\n",
    "total_tip = order * tip_as_percent\n",
    "total_bill = total_tip + order\n",
    "bill_per_person = total+bill / people\n",
    "\n",
    "final_bill = round(bill_per_person, 2)\n",
    "print(f\"팁 포함해서 각자 내야되는 금액은:{final_bill} $\")"
   ]
  },
  {
   "cell_type": "code",
   "execution_count": 4,
   "id": "c1d3e852-2ba3-4551-a852-b3d253d22b31",
   "metadata": {},
   "outputs": [
    {
     "name": "stdout",
     "output_type": "stream",
     "text": [
      "팁 계산기!\n"
     ]
    },
    {
     "name": "stdin",
     "output_type": "stream",
     "text": [
      "총 얼마를 주문했을까? 55000\n",
      "팁을 얼마나 주면 좋을까? 10, 12, or, 15 ?  10\n",
      "몇명이서 나눠서 낼까? 4\n"
     ]
    },
    {
     "name": "stdout",
     "output_type": "stream",
     "text": [
      "팁 포함해서 각자 내야되는 금액은: 15125.0 $\n"
     ]
    }
   ],
   "source": [
    "print(\"팁 계산기!\")\n",
    "\n",
    "order = float(input(\"총 얼마를 주문했을까?\"))\n",
    "tip = int(input (\"팁을 얼마나 주면 좋을까? 10, 12, or, 15 ? \"))\n",
    "people = int(input(\"몇명이서 나눠서 낼까?\"))\n",
    "\n",
    "tip_as_percent = tip / 100\n",
    "total_tip = order * tip_as_percent\n",
    "total_bill = total_tip + order\n",
    "bill_per_person = total_bill / people\n",
    "\n",
    "final_bill = round(bill_per_person, 2)\n",
    "print(f\"팁 포함해서 각자 내야되는 금액은: {final_bill} $\")"
   ]
  },
  {
   "cell_type": "code",
   "execution_count": 8,
   "id": "c53c9d5a-6083-4d3c-8733-e1a65e8504bb",
   "metadata": {},
   "outputs": [
    {
     "name": "stdout",
     "output_type": "stream",
     "text": [
      "롤러코스터를 타러 오셨군요!\n"
     ]
    },
    {
     "name": "stdin",
     "output_type": "stream",
     "text": [
      "키가 몇 cm 입니까? 150\n"
     ]
    },
    {
     "name": "stdout",
     "output_type": "stream",
     "text": [
      "롤러코스터를 탈 수 있습니다!\n"
     ]
    },
    {
     "name": "stdin",
     "output_type": "stream",
     "text": [
      "당신은 몇살입니까? 16\n"
     ]
    },
    {
     "name": "stdout",
     "output_type": "stream",
     "text": [
      "7천원입니다\n"
     ]
    }
   ],
   "source": [
    "print(\"롤러코스터를 타러 오셨군요!\")\n",
    "height = int(input(\"키가 몇 cm 입니까?\"))\n",
    "\n",
    "if height >= 120:\n",
    "    print(\"롤러코스터를 탈 수 있습니다!\")\n",
    "    age = int(input(\"당신은 몇살입니까?\"))\n",
    "    if age < 12:\n",
    "        print(\"무료입니다\")\n",
    "    elif age <= 18:\n",
    "        print(\"7천원입니다\")\n",
    "    else:\n",
    "        print(\"만2천원입니다\")\n",
    "else:\n",
    "    print(\"죄송하지만 롤러코스터를 탈 수 없어요.\")"
   ]
  },
  {
   "cell_type": "code",
   "execution_count": 9,
   "id": "db1ff439-4deb-4bf0-80b5-fa6093295edc",
   "metadata": {},
   "outputs": [
    {
     "name": "stdin",
     "output_type": "stream",
     "text": [
      "숫자를 입력해보세요. 홀수 or 짝수인지 알려드릴게요! 44\n"
     ]
    },
    {
     "name": "stdout",
     "output_type": "stream",
     "text": [
      "입력하신 숫자는 짝수입니다!\n"
     ]
    }
   ],
   "source": [
    "number = int(input(\"숫자를 입력해보세요. 홀수 or 짝수인지 알려드릴게요!\"))\n",
    "\n",
    "if number % 2 == 0:\n",
    "    print(\"입력하신 숫자는 짝수입니다!\")\n",
    "else:\n",
    "    print(\"입력하신 숫자는 홀수입니다!\")"
   ]
  },
  {
   "cell_type": "code",
   "execution_count": 12,
   "id": "49120d19-4462-4053-8e02-152effb0ab1f",
   "metadata": {},
   "outputs": [
    {
     "name": "stdin",
     "output_type": "stream",
     "text": [
      "당신의 키는 몇 m :  163\n",
      "당신의 몸무게는 몇 kg :  51\n"
     ]
    },
    {
     "name": "stdout",
     "output_type": "stream",
     "text": [
      "0.0\n",
      "당신은 저체중입니다.\n"
     ]
    }
   ],
   "source": [
    "height = input(\"당신의 키는 몇 m : \")\n",
    "weight = input(\"당신의 몸무게는 몇 kg : \")\n",
    "\n",
    "bmi = int(weight) / float(height) **2\n",
    "bmi = round(bmi, 2)\n",
    "\n",
    "print(bmi)\n",
    "\n",
    "if bmi  < 18.5:\n",
    "    print(\"당신은 저체중입니다.\")\n",
    "elif bmi <= 24:\n",
    "    print(\"당신은 정상체중입니다.\")\n",
    "elif bmi > 30:\n",
    "    print(\"당신은 과체중입니다.\")\n",
    "elif bmi > 35:\n",
    "    print(\"당신은 비만입니다.\")\n",
    "else:\n",
    "    print(\"당신은 고도비만입니다\")"
   ]
  },
  {
   "cell_type": "code",
   "execution_count": 68,
   "id": "96a25d49-5dcc-46a9-a273-7d846ce8837a",
   "metadata": {},
   "outputs": [
    {
     "ename": "SyntaxError",
     "evalue": "invalid non-printable character U+00A0 (3019645012.py, line 16)",
     "output_type": "error",
     "traceback": [
      "\u001b[1;36m  File \u001b[1;32m\"C:\\Users\\user22\\AppData\\Local\\Temp\\ipykernel_15208\\3019645012.py\"\u001b[1;36m, line \u001b[1;32m16\u001b[0m\n\u001b[1;33m    print(\"경로우대 할인되어 3000원 입니다!\")\u001b[0m\n\u001b[1;37m    ^\u001b[0m\n\u001b[1;31mSyntaxError\u001b[0m\u001b[1;31m:\u001b[0m invalid non-printable character U+00A0\n"
     ]
    }
   ],
   "source": [
    "print(\"롤러코스터에 오신것을 환영합니다!\")\n",
    "height = int(input(\"키가 몇cm입니까? \"))\n",
    "bill = 0\n",
    "\n",
    "if height >= 120:\n",
    "    print(\"롤러코스터를 타실 수 있습니다.\")\n",
    "    age = int(input(\"나이가 몇살입니까?\"))\n",
    "    if age < 12:\n",
    "        bill = 0\n",
    "        print(\"무료입니다!\")\n",
    "    elif age <= 18:\n",
    "        bill = 7000\n",
    "        print(\"청소년은 7천원입니다!\")\n",
    "    elif age >= 65 and age <= 70:\n",
    "        bill = 3000\n",
    "        print(\"경로우대 할인되어 3000원 입니다!\")\n",
    "    else:\n",
    "        bill = 12000\n",
    "        print(\"성인은 만2천원 입니다!\")\n",
    "        \n",
    "        wants_photo = input(\"사진을 찍기를 원합니까? Yes(Y) or No(N).\")\n",
    "        if wants_photo == \"Y\":\n",
    "            bill += 1000\n",
    "            print(f\"지불하실 총 금액은{bill}\")\n",
    "            \n",
    "else:\n",
    "        print(\"죄송합니다. 롤러코스터를 타실 수 없습니다.\")"
   ]
  },
  {
   "cell_type": "code",
   "execution_count": 19,
   "id": "29994163-ec3d-4fd9-a15c-fd12f71152a0",
   "metadata": {},
   "outputs": [
    {
     "name": "stdout",
     "output_type": "stream",
     "text": [
      "파이썬 피자에 오신것을 환영합니다!\n"
     ]
    },
    {
     "name": "stdin",
     "output_type": "stream",
     "text": [
      "원하는 피자 사이즈는 S, M, L 중에서 선택해주세요:  L\n",
      "페퍼로니를 추가하시겠습니까? (Y/N):  N\n",
      "치즈를 추가하시겠습니까? (Y/N):  Y\n"
     ]
    },
    {
     "name": "stdout",
     "output_type": "stream",
     "text": [
      "총 지불하실 금액은 33000원입니다.\n"
     ]
    }
   ],
   "source": [
    "print(\"파이썬 피자에 오신것을 환영합니다!\")\n",
    "pizza_size = input(\"원하는 피자 사이즈는 S, M, L 중에서 선택해주세요: \")\n",
    "pepperoni = input(\"페퍼로니를 추가하시겠습니까? (Y/N): \")\n",
    "cheese = input(\"치즈를 추가하시겠습니까? (Y/N): \")\n",
    "\n",
    "price = 0\n",
    "\n",
    "if pizza_size == \"S\":\n",
    "    price = 15000\n",
    "elif pizza_size == \"M\":\n",
    "    price = 20000\n",
    "elif pizza_size == \"L\":\n",
    "    price = 30000\n",
    "\n",
    "if pepperoni == \"Y\":\n",
    "    price += 2000\n",
    "\n",
    "if cheese == \"Y\":\n",
    "    price += 3000\n",
    "\n",
    "print(\"총 지불하실 금액은 {}원입니다.\".format(price))"
   ]
  },
  {
   "cell_type": "code",
   "execution_count": 74,
   "id": "ec8c22d7-7d2c-46fb-b6ca-89d1177519af",
   "metadata": {},
   "outputs": [
    {
     "name": "stdout",
     "output_type": "stream",
     "text": [
      "hello world!\n"
     ]
    },
    {
     "name": "stdin",
     "output_type": "stream",
     "text": [
      "hello \n",
      " hello\n",
      "world! \n",
      " world!\n"
     ]
    },
    {
     "name": "stdout",
     "output_type": "stream",
     "text": [
      "2\n"
     ]
    }
   ],
   "source": [
    "print(\"hello world!\")\n",
    "word1 = input(\"hello \\n\")\n",
    "word2 = input(\"world! \\n\")\n",
    "              \n",
    "english_word = word1 + word2\n",
    "lower_cast_string = english_word.lower()\n",
    "word_count = lower_cast_string.count(\"o\")\n",
    "\n",
    "print(word_count)"
   ]
  },
  {
   "cell_type": "code",
   "execution_count": 76,
   "id": "7b9476a2-f541-4c93-87f7-d0161098545d",
   "metadata": {},
   "outputs": [
    {
     "name": "stdout",
     "output_type": "stream",
     "text": [
      "\n",
      "*******************************************************************************\n",
      "          |                   |                  |                     |\n",
      " _________|________________.=\"\"_;=.______________|_____________________|_______\n",
      "|                   |  ,-\"_,=\"\"     `\"=.|                  |\n",
      "|___________________|__\"=._o`\"-._        `\"=.______________|___________________\n",
      "          |                `\"=._o`\"=._      _`\"=._                     |\n",
      " _________|_____________________:=._o \"=._.\"_.-=\"'\"=.__________________|_______\n",
      "|                   |    __.--\" , ; `\"=._o.\" ,-\"\"\"-._ \".   |\n",
      "|___________________|_._\"  ,. .` ` `` ,  `\"-._\"-._   \". '__|___________________\n",
      "          |           |o`\"=._` , \"` `; .\". ,  \"-._\"-._; ;              |\n",
      " _________|___________| ;`-.o`\"=._; .\" ` '`.\"\\` . \"-._ /_______________|_______\n",
      "|                   | |o;    `\"-.o`\"=._``  '` \" ,__.--o;   |\n",
      "|___________________|_| ;     (#) `-.o `\"=.`_.--\"_o.-; ;___|___________________\n",
      "____/______/______/___|o;._    \"      `\".o|o_.--\"    ;o;____/______/______/____\n",
      "/______/______/______/_\"=._o--._        ; | ;        ; ;/______/______/______/_\n",
      "____/______/______/______/__\"=._o--._   ;o|o;     _._;o;____/______/______/____\n",
      "/______/______/______/______/____\"=._o._; | ;_.--\"o.--\"_/______/______/______/_\n",
      "____/______/______/______/______/_____\"=.o|o_.--\"\"___/______/______/______/____\n",
      "/______/______/______/______/______/______/______/______/______/______/[TomekK]\n",
      "*******************************************************************************\n",
      "\n"
     ]
    }
   ],
   "source": [
    "print('''\n",
    "*******************************************************************************\n",
    "          |                   |                  |                     |\n",
    " _________|________________.=\"\"_;=.______________|_____________________|_______\n",
    "|                   |  ,-\"_,=\"\"     `\"=.|                  |\n",
    "|___________________|__\"=._o`\"-._        `\"=.______________|___________________\n",
    "          |                `\"=._o`\"=._      _`\"=._                     |\n",
    " _________|_____________________:=._o \"=._.\"_.-=\"'\"=.__________________|_______\n",
    "|                   |    __.--\" , ; `\"=._o.\" ,-\"\"\"-._ \".   |\n",
    "|___________________|_._\"  ,. .` ` `` ,  `\"-._\"-._   \". '__|___________________\n",
    "          |           |o`\"=._` , \"` `; .\". ,  \"-._\"-._; ;              |\n",
    " _________|___________| ;`-.o`\"=._; .\" ` '`.\"\\` . \"-._ /_______________|_______\n",
    "|                   | |o;    `\"-.o`\"=._``  '` \" ,__.--o;   |\n",
    "|___________________|_| ;     (#) `-.o `\"=.`_.--\"_o.-; ;___|___________________\n",
    "____/______/______/___|o;._    \"      `\".o|o_.--\"    ;o;____/______/______/____\n",
    "/______/______/______/_\"=._o--._        ; | ;        ; ;/______/______/______/_\n",
    "____/______/______/______/__\"=._o--._   ;o|o;     _._;o;____/______/______/____\n",
    "/______/______/______/______/____\"=._o._; | ;_.--\"o.--\"_/______/______/______/_\n",
    "____/______/______/______/______/_____\"=.o|o_.--\"\"___/______/______/______/____\n",
    "/______/______/______/______/______/______/______/______/______/______/[TomekK]\n",
    "*******************************************************************************\n",
    "''')"
   ]
  },
  {
   "cell_type": "code",
   "execution_count": null,
   "id": "21dff2ed-ee63-48e1-933e-ca21f957c78b",
   "metadata": {},
   "outputs": [
    {
     "name": "stdout",
     "output_type": "stream",
     "text": [
      "보물섬에 오신것을 환영합니다!\n",
      "보물섬에서 보물을 찾아보세요~\n"
     ]
    }
   ],
   "source": [
    "print(\"보물섬에 오신것을 환영합니다!\")\n",
    "print(\"보물섬에서 보물을 찾아보세요~\")\n",
    "\n",
    "choice = input(\"당신은 갈림길에 있습니다. 오른쪽(r), 왼쪽(1)을 선택하세요: \").lower()\n",
    "\n",
    "if choice == \"1\":\n",
    "    choice2 = input(\"호수를 만났습니다. 기다릴 것인지(w) 또는 수영을 할것인지(s) 선택하세요.:\").lower()\n",
    "    if choice ==\"w\":\n",
    "        choice3 = input(\"당신은 3개의 문앞에 도착했습니다. 빨간색(r), 노란색(y), 파란색(b) 어떤 색을 선택할까요?: \").lower()\n",
    "        if choice3 == \"r\":\n",
    "            print(\"불구덩이에 빠졌습니다. Game Over\")\n",
    "        elif choice3 == \"y\":\n",
    "            print(\"보석을 발견했습니다!, You win! 이름을 입력하세요!\")\n",
    "            name = input(\"name: \")\n",
    "            print (\"게임의 우승자는 \" + name + \" 입니다!\")\n",
    "        elif choice3 == \"b\":\n",
    "            print(\"바다에 빠졌습니다. Game Over\")\n",
    "        else:\n",
    "            print(\"Game Over\")\n",
    "    else:\n",
    "        print(\"Game Over\")\n",
    "else:\n",
    "    print(\"Game Over\")"
   ]
  },
  {
   "cell_type": "code",
   "execution_count": null,
   "id": "4c09bb97-5979-40b9-872d-fa42aa5e9173",
   "metadata": {},
   "outputs": [],
   "source": [
    "\n"
   ]
  }
 ],
 "metadata": {
  "kernelspec": {
   "display_name": "Python 3 (ipykernel)",
   "language": "python",
   "name": "python3"
  },
  "language_info": {
   "codemirror_mode": {
    "name": "ipython",
    "version": 3
   },
   "file_extension": ".py",
   "mimetype": "text/x-python",
   "name": "python",
   "nbconvert_exporter": "python",
   "pygments_lexer": "ipython3",
   "version": "3.9.13"
  }
 },
 "nbformat": 4,
 "nbformat_minor": 5
}
